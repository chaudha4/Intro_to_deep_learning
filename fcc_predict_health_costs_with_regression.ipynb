{
  "nbformat": 4,
  "nbformat_minor": 0,
  "metadata": {
    "colab": {
      "name": "Copy of fcc_predict_health_costs_with_regression.ipynb",
      "provenance": [],
      "collapsed_sections": [],
      "toc_visible": true,
      "include_colab_link": true
    },
    "kernelspec": {
      "display_name": "Python 3",
      "name": "python3"
    }
  },
  "cells": [
    {
      "cell_type": "markdown",
      "metadata": {
        "id": "view-in-github",
        "colab_type": "text"
      },
      "source": [
        "<a href=\"https://colab.research.google.com/github/chaudha4/Intro_to_deep_learning/blob/master/fcc_predict_health_costs_with_regression.ipynb\" target=\"_parent\"><img src=\"https://colab.research.google.com/assets/colab-badge.svg\" alt=\"Open In Colab\"/></a>"
      ]
    },
    {
      "cell_type": "markdown",
      "metadata": {
        "id": "M9TX15KOkPBV"
      },
      "source": [
        "# Predict healthcare costs using a regression algorithm.\n",
        "\n",
        "We will use `tf.estimator.LinearRegressor` that will predict a label value (health care costs) based on certain feature values (age, smoker etc).\n"
      ]
    },
    {
      "cell_type": "code",
      "metadata": {
        "id": "1rRo8oNqZ-Rj",
        "colab": {
          "base_uri": "https://localhost:8080/"
        },
        "outputId": "93742b54-c8bd-44fc-e639-17b2eb02e6cd"
      },
      "source": [
        "# Import libraries. You may or may not use all of these.\n",
        "!pip install -q git+https://github.com/tensorflow/docs\n",
        "import matplotlib.pyplot as plt\n",
        "import numpy as np\n",
        "import pandas as pd\n",
        "\n",
        "try:\n",
        "  # %tensorflow_version only exists in Colab.\n",
        "  %tensorflow_version 2.x\n",
        "except Exception:\n",
        "  pass\n",
        "import tensorflow as tf\n",
        "\n",
        "from tensorflow import keras\n",
        "from tensorflow.keras import layers\n",
        "\n",
        "import tensorflow_docs as tfdocs\n",
        "import tensorflow_docs.plots\n",
        "import tensorflow_docs.modeling"
      ],
      "execution_count": null,
      "outputs": [
        {
          "output_type": "stream",
          "text": [
            "\u001b[?25l\r\u001b[K     |▎                               | 10kB 18.0MB/s eta 0:00:01\r\u001b[K     |▋                               | 20kB 12.7MB/s eta 0:00:01\r\u001b[K     |█                               | 30kB 9.2MB/s eta 0:00:01\r\u001b[K     |█▎                              | 40kB 8.4MB/s eta 0:00:01\r\u001b[K     |█▋                              | 51kB 5.5MB/s eta 0:00:01\r\u001b[K     |██                              | 61kB 6.1MB/s eta 0:00:01\r\u001b[K     |██▎                             | 71kB 5.9MB/s eta 0:00:01\r\u001b[K     |██▋                             | 81kB 6.5MB/s eta 0:00:01\r\u001b[K     |██▉                             | 92kB 6.2MB/s eta 0:00:01\r\u001b[K     |███▏                            | 102kB 5.4MB/s eta 0:00:01\r\u001b[K     |███▌                            | 112kB 5.4MB/s eta 0:00:01\r\u001b[K     |███▉                            | 122kB 5.4MB/s eta 0:00:01\r\u001b[K     |████▏                           | 133kB 5.4MB/s eta 0:00:01\r\u001b[K     |████▌                           | 143kB 5.4MB/s eta 0:00:01\r\u001b[K     |████▉                           | 153kB 5.4MB/s eta 0:00:01\r\u001b[K     |█████▏                          | 163kB 5.4MB/s eta 0:00:01\r\u001b[K     |█████▌                          | 174kB 5.4MB/s eta 0:00:01\r\u001b[K     |█████▊                          | 184kB 5.4MB/s eta 0:00:01\r\u001b[K     |██████                          | 194kB 5.4MB/s eta 0:00:01\r\u001b[K     |██████▍                         | 204kB 5.4MB/s eta 0:00:01\r\u001b[K     |██████▊                         | 215kB 5.4MB/s eta 0:00:01\r\u001b[K     |███████                         | 225kB 5.4MB/s eta 0:00:01\r\u001b[K     |███████▍                        | 235kB 5.4MB/s eta 0:00:01\r\u001b[K     |███████▊                        | 245kB 5.4MB/s eta 0:00:01\r\u001b[K     |████████                        | 256kB 5.4MB/s eta 0:00:01\r\u001b[K     |████████▍                       | 266kB 5.4MB/s eta 0:00:01\r\u001b[K     |████████▋                       | 276kB 5.4MB/s eta 0:00:01\r\u001b[K     |█████████                       | 286kB 5.4MB/s eta 0:00:01\r\u001b[K     |█████████▎                      | 296kB 5.4MB/s eta 0:00:01\r\u001b[K     |█████████▋                      | 307kB 5.4MB/s eta 0:00:01\r\u001b[K     |██████████                      | 317kB 5.4MB/s eta 0:00:01\r\u001b[K     |██████████▎                     | 327kB 5.4MB/s eta 0:00:01\r\u001b[K     |██████████▋                     | 337kB 5.4MB/s eta 0:00:01\r\u001b[K     |███████████                     | 348kB 5.4MB/s eta 0:00:01\r\u001b[K     |███████████▎                    | 358kB 5.4MB/s eta 0:00:01\r\u001b[K     |███████████▌                    | 368kB 5.4MB/s eta 0:00:01\r\u001b[K     |███████████▉                    | 378kB 5.4MB/s eta 0:00:01\r\u001b[K     |████████████▏                   | 389kB 5.4MB/s eta 0:00:01\r\u001b[K     |████████████▌                   | 399kB 5.4MB/s eta 0:00:01\r\u001b[K     |████████████▉                   | 409kB 5.4MB/s eta 0:00:01\r\u001b[K     |█████████████▏                  | 419kB 5.4MB/s eta 0:00:01\r\u001b[K     |█████████████▌                  | 430kB 5.4MB/s eta 0:00:01\r\u001b[K     |█████████████▉                  | 440kB 5.4MB/s eta 0:00:01\r\u001b[K     |██████████████▏                 | 450kB 5.4MB/s eta 0:00:01\r\u001b[K     |██████████████▍                 | 460kB 5.4MB/s eta 0:00:01\r\u001b[K     |██████████████▊                 | 471kB 5.4MB/s eta 0:00:01\r\u001b[K     |███████████████                 | 481kB 5.4MB/s eta 0:00:01\r\u001b[K     |███████████████▍                | 491kB 5.4MB/s eta 0:00:01\r\u001b[K     |███████████████▊                | 501kB 5.4MB/s eta 0:00:01\r\u001b[K     |████████████████                | 512kB 5.4MB/s eta 0:00:01\r\u001b[K     |████████████████▍               | 522kB 5.4MB/s eta 0:00:01\r\u001b[K     |████████████████▊               | 532kB 5.4MB/s eta 0:00:01\r\u001b[K     |█████████████████               | 542kB 5.4MB/s eta 0:00:01\r\u001b[K     |█████████████████▎              | 552kB 5.4MB/s eta 0:00:01\r\u001b[K     |█████████████████▋              | 563kB 5.4MB/s eta 0:00:01\r\u001b[K     |██████████████████              | 573kB 5.4MB/s eta 0:00:01\r\u001b[K     |██████████████████▎             | 583kB 5.4MB/s eta 0:00:01\r\u001b[K     |██████████████████▋             | 593kB 5.4MB/s eta 0:00:01\r\u001b[K     |███████████████████             | 604kB 5.4MB/s eta 0:00:01\r\u001b[K     |███████████████████▎            | 614kB 5.4MB/s eta 0:00:01\r\u001b[K     |███████████████████▋            | 624kB 5.4MB/s eta 0:00:01\r\u001b[K     |████████████████████            | 634kB 5.4MB/s eta 0:00:01\r\u001b[K     |████████████████████▏           | 645kB 5.4MB/s eta 0:00:01\r\u001b[K     |████████████████████▌           | 655kB 5.4MB/s eta 0:00:01\r\u001b[K     |████████████████████▉           | 665kB 5.4MB/s eta 0:00:01\r\u001b[K     |█████████████████████▏          | 675kB 5.4MB/s eta 0:00:01\r\u001b[K     |█████████████████████▌          | 686kB 5.4MB/s eta 0:00:01\r\u001b[K     |█████████████████████▉          | 696kB 5.4MB/s eta 0:00:01\r\u001b[K     |██████████████████████▏         | 706kB 5.4MB/s eta 0:00:01\r\u001b[K     |██████████████████████▌         | 716kB 5.4MB/s eta 0:00:01\r\u001b[K     |██████████████████████▉         | 727kB 5.4MB/s eta 0:00:01\r\u001b[K     |███████████████████████         | 737kB 5.4MB/s eta 0:00:01\r\u001b[K     |███████████████████████▍        | 747kB 5.4MB/s eta 0:00:01\r\u001b[K     |███████████████████████▊        | 757kB 5.4MB/s eta 0:00:01\r\u001b[K     |████████████████████████        | 768kB 5.4MB/s eta 0:00:01\r\u001b[K     |████████████████████████▍       | 778kB 5.4MB/s eta 0:00:01\r\u001b[K     |████████████████████████▊       | 788kB 5.4MB/s eta 0:00:01\r\u001b[K     |█████████████████████████       | 798kB 5.4MB/s eta 0:00:01\r\u001b[K     |█████████████████████████▍      | 808kB 5.4MB/s eta 0:00:01\r\u001b[K     |█████████████████████████▊      | 819kB 5.4MB/s eta 0:00:01\r\u001b[K     |██████████████████████████      | 829kB 5.4MB/s eta 0:00:01\r\u001b[K     |██████████████████████████▎     | 839kB 5.4MB/s eta 0:00:01\r\u001b[K     |██████████████████████████▋     | 849kB 5.4MB/s eta 0:00:01\r\u001b[K     |███████████████████████████     | 860kB 5.4MB/s eta 0:00:01\r\u001b[K     |███████████████████████████▎    | 870kB 5.4MB/s eta 0:00:01\r\u001b[K     |███████████████████████████▋    | 880kB 5.4MB/s eta 0:00:01\r\u001b[K     |████████████████████████████    | 890kB 5.4MB/s eta 0:00:01\r\u001b[K     |████████████████████████████▎   | 901kB 5.4MB/s eta 0:00:01\r\u001b[K     |████████████████████████████▋   | 911kB 5.4MB/s eta 0:00:01\r\u001b[K     |████████████████████████████▉   | 921kB 5.4MB/s eta 0:00:01\r\u001b[K     |█████████████████████████████▏  | 931kB 5.4MB/s eta 0:00:01\r\u001b[K     |█████████████████████████████▌  | 942kB 5.4MB/s eta 0:00:01\r\u001b[K     |█████████████████████████████▉  | 952kB 5.4MB/s eta 0:00:01\r\u001b[K     |██████████████████████████████▏ | 962kB 5.4MB/s eta 0:00:01\r\u001b[K     |██████████████████████████████▌ | 972kB 5.4MB/s eta 0:00:01\r\u001b[K     |██████████████████████████████▉ | 983kB 5.4MB/s eta 0:00:01\r\u001b[K     |███████████████████████████████▏| 993kB 5.4MB/s eta 0:00:01\r\u001b[K     |███████████████████████████████▌| 1.0MB 5.4MB/s eta 0:00:01\r\u001b[K     |███████████████████████████████▊| 1.0MB 5.4MB/s eta 0:00:01\r\u001b[K     |████████████████████████████████| 1.0MB 5.4MB/s \n",
            "\u001b[?25h  Building wheel for tensorflow-docs (setup.py) ... \u001b[?25l\u001b[?25hdone\n"
          ],
          "name": "stdout"
        }
      ]
    },
    {
      "cell_type": "code",
      "metadata": {
        "id": "CiX2FI4gZtTt",
        "colab": {
          "base_uri": "https://localhost:8080/",
          "height": 391
        },
        "outputId": "87eca3b5-5628-425d-b86d-0c5eecdaa5df"
      },
      "source": [
        "# Import data\n",
        "!wget https://cdn.freecodecamp.org/project-data/health-costs/insurance.csv\n",
        "dataset = pd.read_csv('insurance.csv')\n",
        "dataset.tail()"
      ],
      "execution_count": null,
      "outputs": [
        {
          "output_type": "stream",
          "text": [
            "--2020-12-26 21:28:58--  https://cdn.freecodecamp.org/project-data/health-costs/insurance.csv\n",
            "Resolving cdn.freecodecamp.org (cdn.freecodecamp.org)... 172.67.70.149, 104.26.2.33, 104.26.3.33, ...\n",
            "Connecting to cdn.freecodecamp.org (cdn.freecodecamp.org)|172.67.70.149|:443... connected.\n",
            "HTTP request sent, awaiting response... 200 OK\n",
            "Length: unspecified [text/csv]\n",
            "Saving to: ‘insurance.csv’\n",
            "\n",
            "insurance.csv           [ <=>                ]  49.09K  --.-KB/s    in 0s      \n",
            "\n",
            "2020-12-26 21:28:58 (106 MB/s) - ‘insurance.csv’ saved [50264]\n",
            "\n"
          ],
          "name": "stdout"
        },
        {
          "output_type": "execute_result",
          "data": {
            "text/html": [
              "<div>\n",
              "<style scoped>\n",
              "    .dataframe tbody tr th:only-of-type {\n",
              "        vertical-align: middle;\n",
              "    }\n",
              "\n",
              "    .dataframe tbody tr th {\n",
              "        vertical-align: top;\n",
              "    }\n",
              "\n",
              "    .dataframe thead th {\n",
              "        text-align: right;\n",
              "    }\n",
              "</style>\n",
              "<table border=\"1\" class=\"dataframe\">\n",
              "  <thead>\n",
              "    <tr style=\"text-align: right;\">\n",
              "      <th></th>\n",
              "      <th>age</th>\n",
              "      <th>sex</th>\n",
              "      <th>bmi</th>\n",
              "      <th>children</th>\n",
              "      <th>smoker</th>\n",
              "      <th>region</th>\n",
              "      <th>expenses</th>\n",
              "    </tr>\n",
              "  </thead>\n",
              "  <tbody>\n",
              "    <tr>\n",
              "      <th>1333</th>\n",
              "      <td>50</td>\n",
              "      <td>male</td>\n",
              "      <td>31.0</td>\n",
              "      <td>3</td>\n",
              "      <td>no</td>\n",
              "      <td>northwest</td>\n",
              "      <td>10600.55</td>\n",
              "    </tr>\n",
              "    <tr>\n",
              "      <th>1334</th>\n",
              "      <td>18</td>\n",
              "      <td>female</td>\n",
              "      <td>31.9</td>\n",
              "      <td>0</td>\n",
              "      <td>no</td>\n",
              "      <td>northeast</td>\n",
              "      <td>2205.98</td>\n",
              "    </tr>\n",
              "    <tr>\n",
              "      <th>1335</th>\n",
              "      <td>18</td>\n",
              "      <td>female</td>\n",
              "      <td>36.9</td>\n",
              "      <td>0</td>\n",
              "      <td>no</td>\n",
              "      <td>southeast</td>\n",
              "      <td>1629.83</td>\n",
              "    </tr>\n",
              "    <tr>\n",
              "      <th>1336</th>\n",
              "      <td>21</td>\n",
              "      <td>female</td>\n",
              "      <td>25.8</td>\n",
              "      <td>0</td>\n",
              "      <td>no</td>\n",
              "      <td>southwest</td>\n",
              "      <td>2007.95</td>\n",
              "    </tr>\n",
              "    <tr>\n",
              "      <th>1337</th>\n",
              "      <td>61</td>\n",
              "      <td>female</td>\n",
              "      <td>29.1</td>\n",
              "      <td>0</td>\n",
              "      <td>yes</td>\n",
              "      <td>northwest</td>\n",
              "      <td>29141.36</td>\n",
              "    </tr>\n",
              "  </tbody>\n",
              "</table>\n",
              "</div>"
            ],
            "text/plain": [
              "      age     sex   bmi  children smoker     region  expenses\n",
              "1333   50    male  31.0         3     no  northwest  10600.55\n",
              "1334   18  female  31.9         0     no  northeast   2205.98\n",
              "1335   18  female  36.9         0     no  southeast   1629.83\n",
              "1336   21  female  25.8         0     no  southwest   2007.95\n",
              "1337   61  female  29.1         0    yes  northwest  29141.36"
            ]
          },
          "metadata": {
            "tags": []
          },
          "execution_count": 2
        }
      ]
    },
    {
      "cell_type": "code",
      "metadata": {
        "id": "3K6nI7UiQCnR"
      },
      "source": [
        ""
      ],
      "execution_count": null,
      "outputs": []
    },
    {
      "cell_type": "markdown",
      "metadata": {
        "id": "MpiywBT6AGvV"
      },
      "source": [
        "## Analyze the data\n",
        "Inspect and cleanup"
      ]
    },
    {
      "cell_type": "code",
      "metadata": {
        "id": "LcopvQh3X-kX"
      },
      "source": [
        "df = dataset.copy() # deep copy\n"
      ],
      "execution_count": null,
      "outputs": []
    },
    {
      "cell_type": "code",
      "metadata": {
        "id": "erHr0TTcT0_k",
        "colab": {
          "base_uri": "https://localhost:8080/"
        },
        "outputId": "05b8fe7a-29a3-4629-a5d2-0ad3c74a9791"
      },
      "source": [
        "df.dtypes"
      ],
      "execution_count": null,
      "outputs": [
        {
          "output_type": "execute_result",
          "data": {
            "text/plain": [
              "age           int64\n",
              "sex          object\n",
              "bmi         float64\n",
              "children      int64\n",
              "smoker       object\n",
              "region       object\n",
              "expenses    float64\n",
              "dtype: object"
            ]
          },
          "metadata": {
            "tags": []
          },
          "execution_count": 5
        }
      ]
    },
    {
      "cell_type": "code",
      "metadata": {
        "colab": {
          "base_uri": "https://localhost:8080/"
        },
        "id": "LkFN80WeQmTp",
        "outputId": "8faa2461-adb0-4cf7-a834-f2c4245b8aaa"
      },
      "source": [
        "df.info()"
      ],
      "execution_count": null,
      "outputs": [
        {
          "output_type": "stream",
          "text": [
            "<class 'pandas.core.frame.DataFrame'>\n",
            "RangeIndex: 1338 entries, 0 to 1337\n",
            "Data columns (total 7 columns):\n",
            " #   Column    Non-Null Count  Dtype  \n",
            "---  ------    --------------  -----  \n",
            " 0   age       1338 non-null   int64  \n",
            " 1   sex       1338 non-null   object \n",
            " 2   bmi       1338 non-null   float64\n",
            " 3   children  1338 non-null   int64  \n",
            " 4   smoker    1338 non-null   object \n",
            " 5   region    1338 non-null   object \n",
            " 6   expenses  1338 non-null   float64\n",
            "dtypes: float64(2), int64(2), object(3)\n",
            "memory usage: 73.3+ KB\n"
          ],
          "name": "stdout"
        }
      ]
    },
    {
      "cell_type": "code",
      "metadata": {
        "id": "yvzB8pCABPt3",
        "colab": {
          "base_uri": "https://localhost:8080/",
          "height": 173
        },
        "outputId": "626fcd46-2e02-43bc-e975-2e8ecf7ae5a2"
      },
      "source": [
        "df.describe().transpose()"
      ],
      "execution_count": null,
      "outputs": [
        {
          "output_type": "execute_result",
          "data": {
            "text/html": [
              "<div>\n",
              "<style scoped>\n",
              "    .dataframe tbody tr th:only-of-type {\n",
              "        vertical-align: middle;\n",
              "    }\n",
              "\n",
              "    .dataframe tbody tr th {\n",
              "        vertical-align: top;\n",
              "    }\n",
              "\n",
              "    .dataframe thead th {\n",
              "        text-align: right;\n",
              "    }\n",
              "</style>\n",
              "<table border=\"1\" class=\"dataframe\">\n",
              "  <thead>\n",
              "    <tr style=\"text-align: right;\">\n",
              "      <th></th>\n",
              "      <th>count</th>\n",
              "      <th>mean</th>\n",
              "      <th>std</th>\n",
              "      <th>min</th>\n",
              "      <th>25%</th>\n",
              "      <th>50%</th>\n",
              "      <th>75%</th>\n",
              "      <th>max</th>\n",
              "    </tr>\n",
              "  </thead>\n",
              "  <tbody>\n",
              "    <tr>\n",
              "      <th>age</th>\n",
              "      <td>1338.0</td>\n",
              "      <td>39.207025</td>\n",
              "      <td>14.049960</td>\n",
              "      <td>18.00</td>\n",
              "      <td>27.0000</td>\n",
              "      <td>39.00</td>\n",
              "      <td>51.000</td>\n",
              "      <td>64.00</td>\n",
              "    </tr>\n",
              "    <tr>\n",
              "      <th>bmi</th>\n",
              "      <td>1338.0</td>\n",
              "      <td>30.665471</td>\n",
              "      <td>6.098382</td>\n",
              "      <td>16.00</td>\n",
              "      <td>26.3000</td>\n",
              "      <td>30.40</td>\n",
              "      <td>34.700</td>\n",
              "      <td>53.10</td>\n",
              "    </tr>\n",
              "    <tr>\n",
              "      <th>children</th>\n",
              "      <td>1338.0</td>\n",
              "      <td>1.094918</td>\n",
              "      <td>1.205493</td>\n",
              "      <td>0.00</td>\n",
              "      <td>0.0000</td>\n",
              "      <td>1.00</td>\n",
              "      <td>2.000</td>\n",
              "      <td>5.00</td>\n",
              "    </tr>\n",
              "    <tr>\n",
              "      <th>expenses</th>\n",
              "      <td>1338.0</td>\n",
              "      <td>13270.422414</td>\n",
              "      <td>12110.011240</td>\n",
              "      <td>1121.87</td>\n",
              "      <td>4740.2875</td>\n",
              "      <td>9382.03</td>\n",
              "      <td>16639.915</td>\n",
              "      <td>63770.43</td>\n",
              "    </tr>\n",
              "  </tbody>\n",
              "</table>\n",
              "</div>"
            ],
            "text/plain": [
              "           count          mean           std  ...      50%        75%       max\n",
              "age       1338.0     39.207025     14.049960  ...    39.00     51.000     64.00\n",
              "bmi       1338.0     30.665471      6.098382  ...    30.40     34.700     53.10\n",
              "children  1338.0      1.094918      1.205493  ...     1.00      2.000      5.00\n",
              "expenses  1338.0  13270.422414  12110.011240  ...  9382.03  16639.915  63770.43\n",
              "\n",
              "[4 rows x 8 columns]"
            ]
          },
          "metadata": {
            "tags": []
          },
          "execution_count": 7
        }
      ]
    },
    {
      "cell_type": "code",
      "metadata": {
        "colab": {
          "base_uri": "https://localhost:8080/"
        },
        "id": "CLVN1Ca9T_w8",
        "outputId": "85aa3e84-fc1b-4143-8247-b21c3dfa669f"
      },
      "source": [
        "for cc in [\"sex\", \"smoker\", \"region\"]:\n",
        "  print(\"Unique values for \", cc, df[cc].unique())"
      ],
      "execution_count": null,
      "outputs": [
        {
          "output_type": "stream",
          "text": [
            "Unique values for  sex ['female' 'male']\n",
            "Unique values for  smoker ['yes' 'no']\n",
            "Unique values for  region ['southwest' 'southeast' 'northwest' 'northeast']\n"
          ],
          "name": "stdout"
        }
      ]
    },
    {
      "cell_type": "markdown",
      "metadata": {
        "id": "J3RRefoaBi-o"
      },
      "source": [
        "The data looks right. The min age is 18 and max is 64. BMI, children and expenses llok okay too. No outliers in this dataset.\n",
        "\n",
        "## Feature engineering\n",
        "\n",
        "Let's convert data to numeric values."
      ]
    },
    {
      "cell_type": "code",
      "metadata": {
        "id": "KIL0ne7HQLUM"
      },
      "source": [
        "# Convert Categorical columns to numeric columns\n",
        "for cc in [\"sex\", \"smoker\", \"region\"]:\n",
        "  df[cc] = pd.Categorical(df[cc]) # mark the column as categorical.\n",
        "  df[cc] = df[cc].cat.codes # replace the value with the category."
      ],
      "execution_count": null,
      "outputs": []
    },
    {
      "cell_type": "code",
      "metadata": {
        "colab": {
          "base_uri": "https://localhost:8080/",
          "height": 419
        },
        "id": "0QXCQ4L2VHVz",
        "outputId": "2176bb12-bf27-42e0-addd-b17168faada9"
      },
      "source": [
        "df"
      ],
      "execution_count": null,
      "outputs": [
        {
          "output_type": "execute_result",
          "data": {
            "text/html": [
              "<div>\n",
              "<style scoped>\n",
              "    .dataframe tbody tr th:only-of-type {\n",
              "        vertical-align: middle;\n",
              "    }\n",
              "\n",
              "    .dataframe tbody tr th {\n",
              "        vertical-align: top;\n",
              "    }\n",
              "\n",
              "    .dataframe thead th {\n",
              "        text-align: right;\n",
              "    }\n",
              "</style>\n",
              "<table border=\"1\" class=\"dataframe\">\n",
              "  <thead>\n",
              "    <tr style=\"text-align: right;\">\n",
              "      <th></th>\n",
              "      <th>age</th>\n",
              "      <th>sex</th>\n",
              "      <th>bmi</th>\n",
              "      <th>children</th>\n",
              "      <th>smoker</th>\n",
              "      <th>region</th>\n",
              "      <th>expenses</th>\n",
              "    </tr>\n",
              "  </thead>\n",
              "  <tbody>\n",
              "    <tr>\n",
              "      <th>0</th>\n",
              "      <td>19</td>\n",
              "      <td>0</td>\n",
              "      <td>27.9</td>\n",
              "      <td>0</td>\n",
              "      <td>1</td>\n",
              "      <td>3</td>\n",
              "      <td>16884.92</td>\n",
              "    </tr>\n",
              "    <tr>\n",
              "      <th>1</th>\n",
              "      <td>18</td>\n",
              "      <td>1</td>\n",
              "      <td>33.8</td>\n",
              "      <td>1</td>\n",
              "      <td>0</td>\n",
              "      <td>2</td>\n",
              "      <td>1725.55</td>\n",
              "    </tr>\n",
              "    <tr>\n",
              "      <th>2</th>\n",
              "      <td>28</td>\n",
              "      <td>1</td>\n",
              "      <td>33.0</td>\n",
              "      <td>3</td>\n",
              "      <td>0</td>\n",
              "      <td>2</td>\n",
              "      <td>4449.46</td>\n",
              "    </tr>\n",
              "    <tr>\n",
              "      <th>3</th>\n",
              "      <td>33</td>\n",
              "      <td>1</td>\n",
              "      <td>22.7</td>\n",
              "      <td>0</td>\n",
              "      <td>0</td>\n",
              "      <td>1</td>\n",
              "      <td>21984.47</td>\n",
              "    </tr>\n",
              "    <tr>\n",
              "      <th>4</th>\n",
              "      <td>32</td>\n",
              "      <td>1</td>\n",
              "      <td>28.9</td>\n",
              "      <td>0</td>\n",
              "      <td>0</td>\n",
              "      <td>1</td>\n",
              "      <td>3866.86</td>\n",
              "    </tr>\n",
              "    <tr>\n",
              "      <th>...</th>\n",
              "      <td>...</td>\n",
              "      <td>...</td>\n",
              "      <td>...</td>\n",
              "      <td>...</td>\n",
              "      <td>...</td>\n",
              "      <td>...</td>\n",
              "      <td>...</td>\n",
              "    </tr>\n",
              "    <tr>\n",
              "      <th>1333</th>\n",
              "      <td>50</td>\n",
              "      <td>1</td>\n",
              "      <td>31.0</td>\n",
              "      <td>3</td>\n",
              "      <td>0</td>\n",
              "      <td>1</td>\n",
              "      <td>10600.55</td>\n",
              "    </tr>\n",
              "    <tr>\n",
              "      <th>1334</th>\n",
              "      <td>18</td>\n",
              "      <td>0</td>\n",
              "      <td>31.9</td>\n",
              "      <td>0</td>\n",
              "      <td>0</td>\n",
              "      <td>0</td>\n",
              "      <td>2205.98</td>\n",
              "    </tr>\n",
              "    <tr>\n",
              "      <th>1335</th>\n",
              "      <td>18</td>\n",
              "      <td>0</td>\n",
              "      <td>36.9</td>\n",
              "      <td>0</td>\n",
              "      <td>0</td>\n",
              "      <td>2</td>\n",
              "      <td>1629.83</td>\n",
              "    </tr>\n",
              "    <tr>\n",
              "      <th>1336</th>\n",
              "      <td>21</td>\n",
              "      <td>0</td>\n",
              "      <td>25.8</td>\n",
              "      <td>0</td>\n",
              "      <td>0</td>\n",
              "      <td>3</td>\n",
              "      <td>2007.95</td>\n",
              "    </tr>\n",
              "    <tr>\n",
              "      <th>1337</th>\n",
              "      <td>61</td>\n",
              "      <td>0</td>\n",
              "      <td>29.1</td>\n",
              "      <td>0</td>\n",
              "      <td>1</td>\n",
              "      <td>1</td>\n",
              "      <td>29141.36</td>\n",
              "    </tr>\n",
              "  </tbody>\n",
              "</table>\n",
              "<p>1338 rows × 7 columns</p>\n",
              "</div>"
            ],
            "text/plain": [
              "      age  sex   bmi  children  smoker  region  expenses\n",
              "0      19    0  27.9         0       1       3  16884.92\n",
              "1      18    1  33.8         1       0       2   1725.55\n",
              "2      28    1  33.0         3       0       2   4449.46\n",
              "3      33    1  22.7         0       0       1  21984.47\n",
              "4      32    1  28.9         0       0       1   3866.86\n",
              "...   ...  ...   ...       ...     ...     ...       ...\n",
              "1333   50    1  31.0         3       0       1  10600.55\n",
              "1334   18    0  31.9         0       0       0   2205.98\n",
              "1335   18    0  36.9         0       0       2   1629.83\n",
              "1336   21    0  25.8         0       0       3   2007.95\n",
              "1337   61    0  29.1         0       1       1  29141.36\n",
              "\n",
              "[1338 rows x 7 columns]"
            ]
          },
          "metadata": {
            "tags": []
          },
          "execution_count": 64
        }
      ]
    },
    {
      "cell_type": "markdown",
      "metadata": {
        "id": "pPnd_-YvMylK"
      },
      "source": [
        "\n",
        "## Split the data\n",
        "\n",
        "Create training and validation data. Use 80% of the data as the `train_dataset` and 20% of the data as the `test_dataset`.\n"
      ]
    },
    {
      "cell_type": "code",
      "metadata": {
        "id": "_GKQpAeIBzO-"
      },
      "source": [
        "split_fraction = 0.80\n",
        "dftrain=df[0:int(split_fraction * len(df))]"
      ],
      "execution_count": null,
      "outputs": []
    },
    {
      "cell_type": "code",
      "metadata": {
        "id": "8n7ubeScDzwh",
        "colab": {
          "base_uri": "https://localhost:8080/",
          "height": 266
        },
        "outputId": "6f33a963-e010-491f-a63a-6ebe5fcd0d2b"
      },
      "source": [
        "dftrain.describe().transpose()"
      ],
      "execution_count": null,
      "outputs": [
        {
          "output_type": "execute_result",
          "data": {
            "text/html": [
              "<div>\n",
              "<style scoped>\n",
              "    .dataframe tbody tr th:only-of-type {\n",
              "        vertical-align: middle;\n",
              "    }\n",
              "\n",
              "    .dataframe tbody tr th {\n",
              "        vertical-align: top;\n",
              "    }\n",
              "\n",
              "    .dataframe thead th {\n",
              "        text-align: right;\n",
              "    }\n",
              "</style>\n",
              "<table border=\"1\" class=\"dataframe\">\n",
              "  <thead>\n",
              "    <tr style=\"text-align: right;\">\n",
              "      <th></th>\n",
              "      <th>count</th>\n",
              "      <th>mean</th>\n",
              "      <th>std</th>\n",
              "      <th>min</th>\n",
              "      <th>25%</th>\n",
              "      <th>50%</th>\n",
              "      <th>75%</th>\n",
              "      <th>max</th>\n",
              "    </tr>\n",
              "  </thead>\n",
              "  <tbody>\n",
              "    <tr>\n",
              "      <th>age</th>\n",
              "      <td>1070.0</td>\n",
              "      <td>39.551402</td>\n",
              "      <td>14.141959</td>\n",
              "      <td>18.00</td>\n",
              "      <td>27.0000</td>\n",
              "      <td>40.000</td>\n",
              "      <td>51.7500</td>\n",
              "      <td>64.00</td>\n",
              "    </tr>\n",
              "    <tr>\n",
              "      <th>sex</th>\n",
              "      <td>1070.0</td>\n",
              "      <td>0.510280</td>\n",
              "      <td>0.500128</td>\n",
              "      <td>0.00</td>\n",
              "      <td>0.0000</td>\n",
              "      <td>1.000</td>\n",
              "      <td>1.0000</td>\n",
              "      <td>1.00</td>\n",
              "    </tr>\n",
              "    <tr>\n",
              "      <th>bmi</th>\n",
              "      <td>1070.0</td>\n",
              "      <td>30.784953</td>\n",
              "      <td>6.085046</td>\n",
              "      <td>16.00</td>\n",
              "      <td>26.4000</td>\n",
              "      <td>30.500</td>\n",
              "      <td>34.9750</td>\n",
              "      <td>52.60</td>\n",
              "    </tr>\n",
              "    <tr>\n",
              "      <th>children</th>\n",
              "      <td>1070.0</td>\n",
              "      <td>1.075701</td>\n",
              "      <td>1.191986</td>\n",
              "      <td>0.00</td>\n",
              "      <td>0.0000</td>\n",
              "      <td>1.000</td>\n",
              "      <td>2.0000</td>\n",
              "      <td>5.00</td>\n",
              "    </tr>\n",
              "    <tr>\n",
              "      <th>smoker</th>\n",
              "      <td>1070.0</td>\n",
              "      <td>0.200935</td>\n",
              "      <td>0.400887</td>\n",
              "      <td>0.00</td>\n",
              "      <td>0.0000</td>\n",
              "      <td>0.000</td>\n",
              "      <td>0.0000</td>\n",
              "      <td>1.00</td>\n",
              "    </tr>\n",
              "    <tr>\n",
              "      <th>region</th>\n",
              "      <td>1070.0</td>\n",
              "      <td>1.515888</td>\n",
              "      <td>1.107517</td>\n",
              "      <td>0.00</td>\n",
              "      <td>1.0000</td>\n",
              "      <td>2.000</td>\n",
              "      <td>2.0000</td>\n",
              "      <td>3.00</td>\n",
              "    </tr>\n",
              "    <tr>\n",
              "      <th>expenses</th>\n",
              "      <td>1070.0</td>\n",
              "      <td>13214.126047</td>\n",
              "      <td>12033.808142</td>\n",
              "      <td>1121.87</td>\n",
              "      <td>4740.2875</td>\n",
              "      <td>9333.015</td>\n",
              "      <td>16547.2625</td>\n",
              "      <td>63770.43</td>\n",
              "    </tr>\n",
              "  </tbody>\n",
              "</table>\n",
              "</div>"
            ],
            "text/plain": [
              "           count          mean           std  ...       50%         75%       max\n",
              "age       1070.0     39.551402     14.141959  ...    40.000     51.7500     64.00\n",
              "sex       1070.0      0.510280      0.500128  ...     1.000      1.0000      1.00\n",
              "bmi       1070.0     30.784953      6.085046  ...    30.500     34.9750     52.60\n",
              "children  1070.0      1.075701      1.191986  ...     1.000      2.0000      5.00\n",
              "smoker    1070.0      0.200935      0.400887  ...     0.000      0.0000      1.00\n",
              "region    1070.0      1.515888      1.107517  ...     2.000      2.0000      3.00\n",
              "expenses  1070.0  13214.126047  12033.808142  ...  9333.015  16547.2625  63770.43\n",
              "\n",
              "[7 rows x 8 columns]"
            ]
          },
          "metadata": {
            "tags": []
          },
          "execution_count": 87
        }
      ]
    },
    {
      "cell_type": "code",
      "metadata": {
        "id": "xFeQ7NgdD5-e",
        "colab": {
          "base_uri": "https://localhost:8080/",
          "height": 266
        },
        "outputId": "dae4a8da-8651-430d-a7d7-d55417053ad6"
      },
      "source": [
        "dfeval=df[int(split_fraction * len(df)):]\n",
        "dfeval.describe().transpose()"
      ],
      "execution_count": null,
      "outputs": [
        {
          "output_type": "execute_result",
          "data": {
            "text/html": [
              "<div>\n",
              "<style scoped>\n",
              "    .dataframe tbody tr th:only-of-type {\n",
              "        vertical-align: middle;\n",
              "    }\n",
              "\n",
              "    .dataframe tbody tr th {\n",
              "        vertical-align: top;\n",
              "    }\n",
              "\n",
              "    .dataframe thead th {\n",
              "        text-align: right;\n",
              "    }\n",
              "</style>\n",
              "<table border=\"1\" class=\"dataframe\">\n",
              "  <thead>\n",
              "    <tr style=\"text-align: right;\">\n",
              "      <th></th>\n",
              "      <th>count</th>\n",
              "      <th>mean</th>\n",
              "      <th>std</th>\n",
              "      <th>min</th>\n",
              "      <th>25%</th>\n",
              "      <th>50%</th>\n",
              "      <th>75%</th>\n",
              "      <th>max</th>\n",
              "    </tr>\n",
              "  </thead>\n",
              "  <tbody>\n",
              "    <tr>\n",
              "      <th>age</th>\n",
              "      <td>268.0</td>\n",
              "      <td>37.832090</td>\n",
              "      <td>13.615568</td>\n",
              "      <td>18.00</td>\n",
              "      <td>25.0000</td>\n",
              "      <td>37.00</td>\n",
              "      <td>50.000</td>\n",
              "      <td>64.00</td>\n",
              "    </tr>\n",
              "    <tr>\n",
              "      <th>sex</th>\n",
              "      <td>268.0</td>\n",
              "      <td>0.485075</td>\n",
              "      <td>0.500712</td>\n",
              "      <td>0.00</td>\n",
              "      <td>0.0000</td>\n",
              "      <td>0.00</td>\n",
              "      <td>1.000</td>\n",
              "      <td>1.00</td>\n",
              "    </tr>\n",
              "    <tr>\n",
              "      <th>bmi</th>\n",
              "      <td>268.0</td>\n",
              "      <td>30.188433</td>\n",
              "      <td>6.139579</td>\n",
              "      <td>16.80</td>\n",
              "      <td>25.8000</td>\n",
              "      <td>30.00</td>\n",
              "      <td>33.800</td>\n",
              "      <td>53.10</td>\n",
              "    </tr>\n",
              "    <tr>\n",
              "      <th>children</th>\n",
              "      <td>268.0</td>\n",
              "      <td>1.171642</td>\n",
              "      <td>1.257345</td>\n",
              "      <td>0.00</td>\n",
              "      <td>0.0000</td>\n",
              "      <td>1.00</td>\n",
              "      <td>2.000</td>\n",
              "      <td>5.00</td>\n",
              "    </tr>\n",
              "    <tr>\n",
              "      <th>smoker</th>\n",
              "      <td>268.0</td>\n",
              "      <td>0.220149</td>\n",
              "      <td>0.415122</td>\n",
              "      <td>0.00</td>\n",
              "      <td>0.0000</td>\n",
              "      <td>0.00</td>\n",
              "      <td>0.000</td>\n",
              "      <td>1.00</td>\n",
              "    </tr>\n",
              "    <tr>\n",
              "      <th>region</th>\n",
              "      <td>268.0</td>\n",
              "      <td>1.514925</td>\n",
              "      <td>1.096368</td>\n",
              "      <td>0.00</td>\n",
              "      <td>1.0000</td>\n",
              "      <td>2.00</td>\n",
              "      <td>2.000</td>\n",
              "      <td>3.00</td>\n",
              "    </tr>\n",
              "    <tr>\n",
              "      <th>expenses</th>\n",
              "      <td>268.0</td>\n",
              "      <td>13495.187761</td>\n",
              "      <td>12429.981840</td>\n",
              "      <td>1135.94</td>\n",
              "      <td>4739.8375</td>\n",
              "      <td>9538.89</td>\n",
              "      <td>17077.175</td>\n",
              "      <td>62592.87</td>\n",
              "    </tr>\n",
              "  </tbody>\n",
              "</table>\n",
              "</div>"
            ],
            "text/plain": [
              "          count          mean           std  ...      50%        75%       max\n",
              "age       268.0     37.832090     13.615568  ...    37.00     50.000     64.00\n",
              "sex       268.0      0.485075      0.500712  ...     0.00      1.000      1.00\n",
              "bmi       268.0     30.188433      6.139579  ...    30.00     33.800     53.10\n",
              "children  268.0      1.171642      1.257345  ...     1.00      2.000      5.00\n",
              "smoker    268.0      0.220149      0.415122  ...     0.00      0.000      1.00\n",
              "region    268.0      1.514925      1.096368  ...     2.00      2.000      3.00\n",
              "expenses  268.0  13495.187761  12429.981840  ...  9538.89  17077.175  62592.87\n",
              "\n",
              "[7 rows x 8 columns]"
            ]
          },
          "metadata": {
            "tags": []
          },
          "execution_count": 88
        }
      ]
    },
    {
      "cell_type": "code",
      "metadata": {
        "colab": {
          "base_uri": "https://localhost:8080/"
        },
        "id": "PruLrNHpVa9f",
        "outputId": "f3a4f5b5-eace-43d4-90f8-59d0bcfbf9e6"
      },
      "source": [
        "df.shape"
      ],
      "execution_count": null,
      "outputs": [
        {
          "output_type": "execute_result",
          "data": {
            "text/plain": [
              "(1338, 7)"
            ]
          },
          "metadata": {
            "tags": []
          },
          "execution_count": 89
        }
      ]
    },
    {
      "cell_type": "code",
      "metadata": {
        "colab": {
          "base_uri": "https://localhost:8080/"
        },
        "id": "0uY4C0mLVk00",
        "outputId": "d8d24916-6436-4d58-c51b-42e0ae974b9d"
      },
      "source": [
        "dftrain.shape"
      ],
      "execution_count": null,
      "outputs": [
        {
          "output_type": "execute_result",
          "data": {
            "text/plain": [
              "(1070, 7)"
            ]
          },
          "metadata": {
            "tags": []
          },
          "execution_count": 59
        }
      ]
    },
    {
      "cell_type": "code",
      "metadata": {
        "colab": {
          "base_uri": "https://localhost:8080/"
        },
        "id": "uDqV4q1WVk4s",
        "outputId": "f86f8dc9-dd66-49bc-b5f7-5dabdee9ff58"
      },
      "source": [
        "dfeval.shape"
      ],
      "execution_count": null,
      "outputs": [
        {
          "output_type": "execute_result",
          "data": {
            "text/plain": [
              "(268, 7)"
            ]
          },
          "metadata": {
            "tags": []
          },
          "execution_count": 42
        }
      ]
    },
    {
      "cell_type": "code",
      "metadata": {
        "colab": {
          "base_uri": "https://localhost:8080/",
          "height": 419
        },
        "id": "LLv2ih51_Uuq",
        "outputId": "8f79fe91-5a5a-49aa-d356-75e9b088d68d"
      },
      "source": [
        "dftrain"
      ],
      "execution_count": null,
      "outputs": [
        {
          "output_type": "execute_result",
          "data": {
            "text/html": [
              "<div>\n",
              "<style scoped>\n",
              "    .dataframe tbody tr th:only-of-type {\n",
              "        vertical-align: middle;\n",
              "    }\n",
              "\n",
              "    .dataframe tbody tr th {\n",
              "        vertical-align: top;\n",
              "    }\n",
              "\n",
              "    .dataframe thead th {\n",
              "        text-align: right;\n",
              "    }\n",
              "</style>\n",
              "<table border=\"1\" class=\"dataframe\">\n",
              "  <thead>\n",
              "    <tr style=\"text-align: right;\">\n",
              "      <th></th>\n",
              "      <th>age</th>\n",
              "      <th>sex</th>\n",
              "      <th>bmi</th>\n",
              "      <th>children</th>\n",
              "      <th>smoker</th>\n",
              "      <th>region</th>\n",
              "      <th>expenses</th>\n",
              "    </tr>\n",
              "  </thead>\n",
              "  <tbody>\n",
              "    <tr>\n",
              "      <th>0</th>\n",
              "      <td>19</td>\n",
              "      <td>0</td>\n",
              "      <td>27.9</td>\n",
              "      <td>0</td>\n",
              "      <td>1</td>\n",
              "      <td>3</td>\n",
              "      <td>16884.92</td>\n",
              "    </tr>\n",
              "    <tr>\n",
              "      <th>1</th>\n",
              "      <td>18</td>\n",
              "      <td>1</td>\n",
              "      <td>33.8</td>\n",
              "      <td>1</td>\n",
              "      <td>0</td>\n",
              "      <td>2</td>\n",
              "      <td>1725.55</td>\n",
              "    </tr>\n",
              "    <tr>\n",
              "      <th>2</th>\n",
              "      <td>28</td>\n",
              "      <td>1</td>\n",
              "      <td>33.0</td>\n",
              "      <td>3</td>\n",
              "      <td>0</td>\n",
              "      <td>2</td>\n",
              "      <td>4449.46</td>\n",
              "    </tr>\n",
              "    <tr>\n",
              "      <th>3</th>\n",
              "      <td>33</td>\n",
              "      <td>1</td>\n",
              "      <td>22.7</td>\n",
              "      <td>0</td>\n",
              "      <td>0</td>\n",
              "      <td>1</td>\n",
              "      <td>21984.47</td>\n",
              "    </tr>\n",
              "    <tr>\n",
              "      <th>4</th>\n",
              "      <td>32</td>\n",
              "      <td>1</td>\n",
              "      <td>28.9</td>\n",
              "      <td>0</td>\n",
              "      <td>0</td>\n",
              "      <td>1</td>\n",
              "      <td>3866.86</td>\n",
              "    </tr>\n",
              "    <tr>\n",
              "      <th>...</th>\n",
              "      <td>...</td>\n",
              "      <td>...</td>\n",
              "      <td>...</td>\n",
              "      <td>...</td>\n",
              "      <td>...</td>\n",
              "      <td>...</td>\n",
              "      <td>...</td>\n",
              "    </tr>\n",
              "    <tr>\n",
              "      <th>1065</th>\n",
              "      <td>42</td>\n",
              "      <td>0</td>\n",
              "      <td>25.3</td>\n",
              "      <td>1</td>\n",
              "      <td>0</td>\n",
              "      <td>3</td>\n",
              "      <td>7045.50</td>\n",
              "    </tr>\n",
              "    <tr>\n",
              "      <th>1066</th>\n",
              "      <td>48</td>\n",
              "      <td>1</td>\n",
              "      <td>37.3</td>\n",
              "      <td>2</td>\n",
              "      <td>0</td>\n",
              "      <td>2</td>\n",
              "      <td>8978.19</td>\n",
              "    </tr>\n",
              "    <tr>\n",
              "      <th>1067</th>\n",
              "      <td>39</td>\n",
              "      <td>1</td>\n",
              "      <td>42.7</td>\n",
              "      <td>0</td>\n",
              "      <td>0</td>\n",
              "      <td>0</td>\n",
              "      <td>5757.41</td>\n",
              "    </tr>\n",
              "    <tr>\n",
              "      <th>1068</th>\n",
              "      <td>63</td>\n",
              "      <td>1</td>\n",
              "      <td>21.7</td>\n",
              "      <td>1</td>\n",
              "      <td>0</td>\n",
              "      <td>1</td>\n",
              "      <td>14349.85</td>\n",
              "    </tr>\n",
              "    <tr>\n",
              "      <th>1069</th>\n",
              "      <td>54</td>\n",
              "      <td>0</td>\n",
              "      <td>31.9</td>\n",
              "      <td>1</td>\n",
              "      <td>0</td>\n",
              "      <td>2</td>\n",
              "      <td>10928.85</td>\n",
              "    </tr>\n",
              "  </tbody>\n",
              "</table>\n",
              "<p>1070 rows × 7 columns</p>\n",
              "</div>"
            ],
            "text/plain": [
              "      age  sex   bmi  children  smoker  region  expenses\n",
              "0      19    0  27.9         0       1       3  16884.92\n",
              "1      18    1  33.8         1       0       2   1725.55\n",
              "2      28    1  33.0         3       0       2   4449.46\n",
              "3      33    1  22.7         0       0       1  21984.47\n",
              "4      32    1  28.9         0       0       1   3866.86\n",
              "...   ...  ...   ...       ...     ...     ...       ...\n",
              "1065   42    0  25.3         1       0       3   7045.50\n",
              "1066   48    1  37.3         2       0       2   8978.19\n",
              "1067   39    1  42.7         0       0       0   5757.41\n",
              "1068   63    1  21.7         1       0       1  14349.85\n",
              "1069   54    0  31.9         1       0       2  10928.85\n",
              "\n",
              "[1070 rows x 7 columns]"
            ]
          },
          "metadata": {
            "tags": []
          },
          "execution_count": 90
        }
      ]
    },
    {
      "cell_type": "markdown",
      "metadata": {
        "id": "6xM4XdFiFDVA"
      },
      "source": [
        "## Normalize the data\n",
        "\n",
        "It is important to scale features before training a neural network. Normalization is a common way of doing this scaling. Subtract the mean and divide by the standard deviation of each feature.\n",
        "\n",
        "The mean and standard deviation should only be computed using the training data so that the models have no access to the values in the validation and test sets.\n",
        "\n",
        "Create a model and train it with the `train_dataset`. Run the final cell in this notebook to check your model. The final cell will use the unseen `test_dataset` to check how well the model generalizes.\n",
        "\n",
        "To pass the challenge, `model.evaluate` must return a Mean Absolute Error of under 3500. This means it predicts health care costs correctly within $3500.\n",
        "\n",
        "The final cell will also predict expenses using the `test_dataset` and graph the results."
      ]
    },
    {
      "cell_type": "code",
      "metadata": {
        "id": "hdxyXdJsFHEh"
      },
      "source": [
        "train_mean = dftrain.mean()\n",
        "train_std = dftrain.std()\n",
        "\n",
        "dftrain = (dftrain - train_mean) / train_std\n",
        "dfeval = (dfeval - train_mean) / train_std\n"
      ],
      "execution_count": null,
      "outputs": []
    },
    {
      "cell_type": "markdown",
      "metadata": {
        "id": "D4BRLdlRgyfW"
      },
      "source": [
        "`pop` off the \"expenses\" column from these datasets to create new datasets called `train_labels` and `test_labels`. Use these labels when training your model."
      ]
    },
    {
      "cell_type": "code",
      "metadata": {
        "id": "Hb3f3IGXGtBa"
      },
      "source": [
        "y_train=dftrain.pop(\"expenses\")\n",
        "y_eval=dfeval.pop(\"expenses\")\n"
      ],
      "execution_count": null,
      "outputs": []
    },
    {
      "cell_type": "code",
      "metadata": {
        "colab": {
          "base_uri": "https://localhost:8080/",
          "height": 419
        },
        "id": "UQ5WBkW9ZW-1",
        "outputId": "fabf53e7-a897-4a94-b185-a5770ee4f795"
      },
      "source": [
        "dftrain"
      ],
      "execution_count": null,
      "outputs": [
        {
          "output_type": "execute_result",
          "data": {
            "text/html": [
              "<div>\n",
              "<style scoped>\n",
              "    .dataframe tbody tr th:only-of-type {\n",
              "        vertical-align: middle;\n",
              "    }\n",
              "\n",
              "    .dataframe tbody tr th {\n",
              "        vertical-align: top;\n",
              "    }\n",
              "\n",
              "    .dataframe thead th {\n",
              "        text-align: right;\n",
              "    }\n",
              "</style>\n",
              "<table border=\"1\" class=\"dataframe\">\n",
              "  <thead>\n",
              "    <tr style=\"text-align: right;\">\n",
              "      <th></th>\n",
              "      <th>age</th>\n",
              "      <th>sex</th>\n",
              "      <th>bmi</th>\n",
              "      <th>children</th>\n",
              "      <th>smoker</th>\n",
              "      <th>region</th>\n",
              "    </tr>\n",
              "  </thead>\n",
              "  <tbody>\n",
              "    <tr>\n",
              "      <th>0</th>\n",
              "      <td>-1.453222</td>\n",
              "      <td>-1.020299</td>\n",
              "      <td>-0.474105</td>\n",
              "      <td>-0.902444</td>\n",
              "      <td>1.993245</td>\n",
              "      <td>1.340035</td>\n",
              "    </tr>\n",
              "    <tr>\n",
              "      <th>1</th>\n",
              "      <td>-1.523933</td>\n",
              "      <td>0.979188</td>\n",
              "      <td>0.495485</td>\n",
              "      <td>-0.063508</td>\n",
              "      <td>-0.501225</td>\n",
              "      <td>0.437115</td>\n",
              "    </tr>\n",
              "    <tr>\n",
              "      <th>2</th>\n",
              "      <td>-0.816818</td>\n",
              "      <td>0.979188</td>\n",
              "      <td>0.364015</td>\n",
              "      <td>1.614364</td>\n",
              "      <td>-0.501225</td>\n",
              "      <td>0.437115</td>\n",
              "    </tr>\n",
              "    <tr>\n",
              "      <th>3</th>\n",
              "      <td>-0.463260</td>\n",
              "      <td>0.979188</td>\n",
              "      <td>-1.328659</td>\n",
              "      <td>-0.902444</td>\n",
              "      <td>-0.501225</td>\n",
              "      <td>-0.465806</td>\n",
              "    </tr>\n",
              "    <tr>\n",
              "      <th>4</th>\n",
              "      <td>-0.533971</td>\n",
              "      <td>0.979188</td>\n",
              "      <td>-0.309768</td>\n",
              "      <td>-0.902444</td>\n",
              "      <td>-0.501225</td>\n",
              "      <td>-0.465806</td>\n",
              "    </tr>\n",
              "    <tr>\n",
              "      <th>...</th>\n",
              "      <td>...</td>\n",
              "      <td>...</td>\n",
              "      <td>...</td>\n",
              "      <td>...</td>\n",
              "      <td>...</td>\n",
              "      <td>...</td>\n",
              "    </tr>\n",
              "    <tr>\n",
              "      <th>1065</th>\n",
              "      <td>0.173144</td>\n",
              "      <td>-1.020299</td>\n",
              "      <td>-0.901382</td>\n",
              "      <td>-0.063508</td>\n",
              "      <td>-0.501225</td>\n",
              "      <td>1.340035</td>\n",
              "    </tr>\n",
              "    <tr>\n",
              "      <th>1066</th>\n",
              "      <td>0.597414</td>\n",
              "      <td>0.979188</td>\n",
              "      <td>1.070665</td>\n",
              "      <td>0.775428</td>\n",
              "      <td>-0.501225</td>\n",
              "      <td>0.437115</td>\n",
              "    </tr>\n",
              "    <tr>\n",
              "      <th>1067</th>\n",
              "      <td>-0.038990</td>\n",
              "      <td>0.979188</td>\n",
              "      <td>1.958086</td>\n",
              "      <td>-0.902444</td>\n",
              "      <td>-0.501225</td>\n",
              "      <td>-1.368726</td>\n",
              "    </tr>\n",
              "    <tr>\n",
              "      <th>1068</th>\n",
              "      <td>1.658087</td>\n",
              "      <td>0.979188</td>\n",
              "      <td>-1.492997</td>\n",
              "      <td>-0.063508</td>\n",
              "      <td>-0.501225</td>\n",
              "      <td>-0.465806</td>\n",
              "    </tr>\n",
              "    <tr>\n",
              "      <th>1069</th>\n",
              "      <td>1.021683</td>\n",
              "      <td>-1.020299</td>\n",
              "      <td>0.183244</td>\n",
              "      <td>-0.063508</td>\n",
              "      <td>-0.501225</td>\n",
              "      <td>0.437115</td>\n",
              "    </tr>\n",
              "  </tbody>\n",
              "</table>\n",
              "<p>1070 rows × 6 columns</p>\n",
              "</div>"
            ],
            "text/plain": [
              "           age       sex       bmi  children    smoker    region\n",
              "0    -1.453222 -1.020299 -0.474105 -0.902444  1.993245  1.340035\n",
              "1    -1.523933  0.979188  0.495485 -0.063508 -0.501225  0.437115\n",
              "2    -0.816818  0.979188  0.364015  1.614364 -0.501225  0.437115\n",
              "3    -0.463260  0.979188 -1.328659 -0.902444 -0.501225 -0.465806\n",
              "4    -0.533971  0.979188 -0.309768 -0.902444 -0.501225 -0.465806\n",
              "...        ...       ...       ...       ...       ...       ...\n",
              "1065  0.173144 -1.020299 -0.901382 -0.063508 -0.501225  1.340035\n",
              "1066  0.597414  0.979188  1.070665  0.775428 -0.501225  0.437115\n",
              "1067 -0.038990  0.979188  1.958086 -0.902444 -0.501225 -1.368726\n",
              "1068  1.658087  0.979188 -1.492997 -0.063508 -0.501225 -0.465806\n",
              "1069  1.021683 -1.020299  0.183244 -0.063508 -0.501225  0.437115\n",
              "\n",
              "[1070 rows x 6 columns]"
            ]
          },
          "metadata": {
            "tags": []
          },
          "execution_count": 71
        }
      ]
    },
    {
      "cell_type": "code",
      "metadata": {
        "colab": {
          "base_uri": "https://localhost:8080/"
        },
        "id": "07iwbddjBfAW",
        "outputId": "65cd8cbb-f8ea-4ced-fe3a-5d3cf329079e"
      },
      "source": [
        "y_train"
      ],
      "execution_count": null,
      "outputs": [
        {
          "output_type": "execute_result",
          "data": {
            "text/plain": [
              "0       0.305040\n",
              "1      -0.954692\n",
              "2      -0.728337\n",
              "3       0.728809\n",
              "4      -0.776750\n",
              "          ...   \n",
              "1065   -0.512608\n",
              "1066   -0.352003\n",
              "1067   -0.619647\n",
              "1068    0.094378\n",
              "1069   -0.189905\n",
              "Name: expenses, Length: 1070, dtype: float64"
            ]
          },
          "metadata": {
            "tags": []
          },
          "execution_count": 93
        }
      ]
    },
    {
      "cell_type": "code",
      "metadata": {
        "colab": {
          "base_uri": "https://localhost:8080/",
          "height": 204
        },
        "id": "QgiuiOLHatE_",
        "outputId": "55d66d7a-6a19-4f70-e29d-f4b3e2010c4d"
      },
      "source": [
        "dfeval.head()"
      ],
      "execution_count": null,
      "outputs": [
        {
          "output_type": "execute_result",
          "data": {
            "text/html": [
              "<div>\n",
              "<style scoped>\n",
              "    .dataframe tbody tr th:only-of-type {\n",
              "        vertical-align: middle;\n",
              "    }\n",
              "\n",
              "    .dataframe tbody tr th {\n",
              "        vertical-align: top;\n",
              "    }\n",
              "\n",
              "    .dataframe thead th {\n",
              "        text-align: right;\n",
              "    }\n",
              "</style>\n",
              "<table border=\"1\" class=\"dataframe\">\n",
              "  <thead>\n",
              "    <tr style=\"text-align: right;\">\n",
              "      <th></th>\n",
              "      <th>age</th>\n",
              "      <th>sex</th>\n",
              "      <th>bmi</th>\n",
              "      <th>children</th>\n",
              "      <th>smoker</th>\n",
              "      <th>region</th>\n",
              "    </tr>\n",
              "  </thead>\n",
              "  <tbody>\n",
              "    <tr>\n",
              "      <th>1070</th>\n",
              "      <td>-0.180414</td>\n",
              "      <td>0.979188</td>\n",
              "      <td>1.037798</td>\n",
              "      <td>-0.063508</td>\n",
              "      <td>1.993245</td>\n",
              "      <td>0.437115</td>\n",
              "    </tr>\n",
              "    <tr>\n",
              "      <th>1071</th>\n",
              "      <td>1.658087</td>\n",
              "      <td>0.979188</td>\n",
              "      <td>0.101075</td>\n",
              "      <td>-0.902444</td>\n",
              "      <td>-0.501225</td>\n",
              "      <td>-1.368726</td>\n",
              "    </tr>\n",
              "    <tr>\n",
              "      <th>1072</th>\n",
              "      <td>-1.311799</td>\n",
              "      <td>0.979188</td>\n",
              "      <td>0.084641</td>\n",
              "      <td>-0.902444</td>\n",
              "      <td>-0.501225</td>\n",
              "      <td>-0.465806</td>\n",
              "    </tr>\n",
              "    <tr>\n",
              "      <th>1073</th>\n",
              "      <td>1.021683</td>\n",
              "      <td>-1.020299</td>\n",
              "      <td>-0.309768</td>\n",
              "      <td>0.775428</td>\n",
              "      <td>-0.501225</td>\n",
              "      <td>-1.368726</td>\n",
              "    </tr>\n",
              "    <tr>\n",
              "      <th>1074</th>\n",
              "      <td>1.445952</td>\n",
              "      <td>-1.020299</td>\n",
              "      <td>-2.051743</td>\n",
              "      <td>-0.902444</td>\n",
              "      <td>-0.501225</td>\n",
              "      <td>-1.368726</td>\n",
              "    </tr>\n",
              "  </tbody>\n",
              "</table>\n",
              "</div>"
            ],
            "text/plain": [
              "           age       sex       bmi  children    smoker    region\n",
              "1070 -0.180414  0.979188  1.037798 -0.063508  1.993245  0.437115\n",
              "1071  1.658087  0.979188  0.101075 -0.902444 -0.501225 -1.368726\n",
              "1072 -1.311799  0.979188  0.084641 -0.902444 -0.501225 -0.465806\n",
              "1073  1.021683 -1.020299 -0.309768  0.775428 -0.501225 -1.368726\n",
              "1074  1.445952 -1.020299 -2.051743 -0.902444 -0.501225 -1.368726"
            ]
          },
          "metadata": {
            "tags": []
          },
          "execution_count": 94
        }
      ]
    },
    {
      "cell_type": "code",
      "metadata": {
        "id": "SXc3D-cLb5iO"
      },
      "source": [
        ""
      ],
      "execution_count": null,
      "outputs": []
    },
    {
      "cell_type": "markdown",
      "metadata": {
        "id": "6gZYCyR3b8dL"
      },
      "source": [
        "## Load data using `tf.data.Dataset`"
      ]
    },
    {
      "cell_type": "code",
      "metadata": {
        "id": "h2FZ_L5fcMoO"
      },
      "source": [
        "dataset = tf.data.Dataset.from_tensor_slices((dftrain.values, y_train.values))"
      ],
      "execution_count": null,
      "outputs": []
    },
    {
      "cell_type": "code",
      "metadata": {
        "colab": {
          "base_uri": "https://localhost:8080/"
        },
        "id": "BWvthkLocMr2",
        "outputId": "7df0144d-1253-4f06-a815-678f735c87b5"
      },
      "source": [
        "for feat, targ in dataset.take(5):\n",
        "  print ('Features: {}, Target: {}'.format(feat, targ))"
      ],
      "execution_count": null,
      "outputs": [
        {
          "output_type": "stream",
          "text": [
            "Features: [-1.45322167 -1.02029942 -0.47410538 -0.90244418  1.99324549  1.34003503], Target: 0.3050400928672032\n",
            "Features: [-1.52393323  0.97918846  0.49548459 -0.06350824 -0.50122548  0.4371147 ], Target: -0.9546916413228017\n",
            "Features: [-0.81681764  0.97918846  0.36401476  1.61436366 -0.50122548  0.4371147 ], Target: -0.7283368608749667\n",
            "Features: [-0.46325984  0.97918846 -1.32865925 -0.90244418 -0.50122548 -0.46580563], Target: 0.7288086904466965\n",
            "Features: [-0.5339714   0.97918846 -0.3097681  -0.90244418 -0.50122548 -0.46580563], Target: -0.7767504630457096\n"
          ],
          "name": "stdout"
        }
      ]
    },
    {
      "cell_type": "code",
      "metadata": {
        "id": "Y7QLyWRKcMvO"
      },
      "source": [
        "# Shuffle and batch the dataset.\n",
        "train_dataset = dataset.shuffle(len(dftrain)).batch(1)"
      ],
      "execution_count": null,
      "outputs": []
    },
    {
      "cell_type": "code",
      "metadata": {
        "id": "3-FqM4o-D4Wj"
      },
      "source": [
        "def test_model(model, dfeval, y_eval):\n",
        "  # RUN THIS CELL TO TEST YOUR MODEL. DO NOT MODIFY CONTENTS.\n",
        "  # Test model by checking how well the model generalizes using the test set.\n",
        "  loss, mae, mse = model.evaluate(dfeval, y_eval, verbose=2)\n",
        "\n",
        "  print(\"Testing set Mean Abs Error: {:5.2f} expenses\".format(mae))\n",
        "\n",
        "  if mae < 3500:\n",
        "    print(\"You passed the challenge. Great job!\")\n",
        "  else:\n",
        "    print(\"The Mean Abs Error must be less than 3500. Keep trying.\")\n",
        "\n",
        "  # Plot predictions.\n",
        "  test_predictions = model.predict(test_dataset).flatten()\n",
        "\n",
        "  a = plt.axes(aspect='equal')\n",
        "  plt.scatter(y_eval, test_predictions)\n",
        "  plt.xlabel('True values (expenses)')\n",
        "  plt.ylabel('Predictions (expenses)')\n",
        "  lims = [0, 50000]\n",
        "  plt.xlim(lims)\n",
        "  plt.ylim(lims)\n",
        "  _ = plt.plot(lims,lims)"
      ],
      "execution_count": null,
      "outputs": []
    },
    {
      "cell_type": "markdown",
      "metadata": {
        "id": "g3ms2ZVTczzs"
      },
      "source": [
        "# Linear model\n",
        "\n",
        "The simplest trainable model is to insert linear transformation between the input and output without applying any activation function."
      ]
    },
    {
      "cell_type": "code",
      "metadata": {
        "id": "9vQy1HMBc41O"
      },
      "source": [
        "def get_linear_model():\n",
        "  model = tf.keras.Sequential([\n",
        "    tf.keras.layers.Dense(1)\n",
        "  ])\n",
        "\n",
        "  model.compile(loss=tf.losses.MeanSquaredError(),\n",
        "                optimizer=tf.optimizers.Adam(),\n",
        "                metrics=[tf.metrics.MeanAbsoluteError(),\n",
        "                         tf.metrics.MeanSquaredError()])\n",
        "  return model"
      ],
      "execution_count": null,
      "outputs": []
    },
    {
      "cell_type": "code",
      "metadata": {
        "id": "VX0FBmdac44q"
      },
      "source": [
        "model = get_linear_model()"
      ],
      "execution_count": null,
      "outputs": []
    },
    {
      "cell_type": "code",
      "metadata": {
        "colab": {
          "base_uri": "https://localhost:8080/"
        },
        "id": "GNYkXTuGc4_a",
        "outputId": "3ea2d330-6859-4a57-c308-66dea75c3abc"
      },
      "source": [
        "history = model.fit(train_dataset, epochs=15)"
      ],
      "execution_count": null,
      "outputs": [
        {
          "output_type": "stream",
          "text": [
            "Epoch 1/15\n",
            "1070/1070 [==============================] - 1s 863us/step - loss: 2.2801 - mean_absolute_error: 1.1285 - mean_squared_error: 2.2801\n",
            "Epoch 2/15\n",
            "1070/1070 [==============================] - 1s 863us/step - loss: 0.9353 - mean_absolute_error: 0.6976 - mean_squared_error: 0.9353\n",
            "Epoch 3/15\n",
            "1070/1070 [==============================] - 1s 860us/step - loss: 0.4510 - mean_absolute_error: 0.4830 - mean_squared_error: 0.4510\n",
            "Epoch 4/15\n",
            "1070/1070 [==============================] - 1s 857us/step - loss: 0.2952 - mean_absolute_error: 0.3882 - mean_squared_error: 0.2952\n",
            "Epoch 5/15\n",
            "1070/1070 [==============================] - 1s 858us/step - loss: 0.2498 - mean_absolute_error: 0.3497 - mean_squared_error: 0.2498\n",
            "Epoch 6/15\n",
            "1070/1070 [==============================] - 1s 854us/step - loss: 0.2329 - mean_absolute_error: 0.3361 - mean_squared_error: 0.2329\n",
            "Epoch 7/15\n",
            "1070/1070 [==============================] - 1s 862us/step - loss: 0.2434 - mean_absolute_error: 0.3513 - mean_squared_error: 0.2434\n",
            "Epoch 8/15\n",
            "1070/1070 [==============================] - 1s 888us/step - loss: 0.2552 - mean_absolute_error: 0.3512 - mean_squared_error: 0.2552\n",
            "Epoch 9/15\n",
            "1070/1070 [==============================] - 1s 831us/step - loss: 0.2307 - mean_absolute_error: 0.3242 - mean_squared_error: 0.2307\n",
            "Epoch 10/15\n",
            "1070/1070 [==============================] - 1s 841us/step - loss: 0.2780 - mean_absolute_error: 0.3734 - mean_squared_error: 0.2780\n",
            "Epoch 11/15\n",
            "1070/1070 [==============================] - 1s 866us/step - loss: 0.2592 - mean_absolute_error: 0.3441 - mean_squared_error: 0.2592\n",
            "Epoch 12/15\n",
            "1070/1070 [==============================] - 1s 837us/step - loss: 0.2409 - mean_absolute_error: 0.3385 - mean_squared_error: 0.2409\n",
            "Epoch 13/15\n",
            "1070/1070 [==============================] - 1s 837us/step - loss: 0.2721 - mean_absolute_error: 0.3641 - mean_squared_error: 0.2721\n",
            "Epoch 14/15\n",
            "1070/1070 [==============================] - 1s 830us/step - loss: 0.2318 - mean_absolute_error: 0.3329 - mean_squared_error: 0.2318\n",
            "Epoch 15/15\n",
            "1070/1070 [==============================] - 1s 860us/step - loss: 0.2334 - mean_absolute_error: 0.3260 - mean_squared_error: 0.2334\n"
          ],
          "name": "stdout"
        }
      ]
    },
    {
      "cell_type": "code",
      "metadata": {
        "id": "Xe7RXH3N3CWU",
        "colab": {
          "base_uri": "https://localhost:8080/",
          "height": 334
        },
        "outputId": "ff8c9409-baf5-4153-de85-5ee8fd0ce9bb"
      },
      "source": [
        "test_model(model, dfeval, y_eval)"
      ],
      "execution_count": null,
      "outputs": [
        {
          "output_type": "stream",
          "text": [
            "9/9 - 0s - loss: 0.2578 - mean_absolute_error: 0.3495 - mean_squared_error: 0.2578\n",
            "Testing set Mean Abs Error:  0.35 expenses\n",
            "You passed the challenge. Great job!\n"
          ],
          "name": "stdout"
        },
        {
          "output_type": "display_data",
          "data": {
            "image/png": "[encoded data removed]",
            "text/plain": [
              "<Figure size 432x288 with 1 Axes>"
            ]
          },
          "metadata": {
            "tags": [],
            "needs_background": "light"
          }
        }
      ]
    },
    {
      "cell_type": "markdown",
      "metadata": {
        "id": "mBdfDFiZdEke"
      },
      "source": [
        "# Dense\n",
        "\n",
        "We can also introduce non-linearity to make the model more accuarte. We can use `relu` activation function to introduce non linearity.\n"
      ]
    },
    {
      "cell_type": "code",
      "metadata": {
        "id": "v46EEtchDXP_"
      },
      "source": [
        "def get_nonlinear_model():\n",
        "  model = tf.keras.Sequential([\n",
        "                               tf.keras.layers.Dense(units=64, activation='relu'),\n",
        "                               tf.keras.layers.Dense(1)\n",
        "                                 ])\n",
        "\n",
        "  model.compile(loss=tf.losses.MeanSquaredError(),\n",
        "                optimizer=tf.optimizers.Adam(),\n",
        "                metrics=[tf.metrics.MeanAbsoluteError(),\n",
        "                         tf.metrics.MeanSquaredError()])\n",
        "  return model"
      ],
      "execution_count": null,
      "outputs": []
    },
    {
      "cell_type": "code",
      "metadata": {
        "id": "b3wrEX1ADXhh"
      },
      "source": [
        "model = get_nonlinear_model()"
      ],
      "execution_count": null,
      "outputs": []
    },
    {
      "cell_type": "code",
      "metadata": {
        "colab": {
          "base_uri": "https://localhost:8080/"
        },
        "id": "6Tg-2GTVDXmV",
        "outputId": "3f8a0be4-5120-4b8c-ce40-cf5fb0105d3c"
      },
      "source": [
        "history = model.fit(train_dataset, epochs=15)"
      ],
      "execution_count": null,
      "outputs": [
        {
          "output_type": "stream",
          "text": [
            "Epoch 1/15\n",
            "1070/1070 [==============================] - 1s 985us/step - loss: 0.5033 - mean_absolute_error: 0.5042 - mean_squared_error: 0.5033\n",
            "Epoch 2/15\n",
            "1070/1070 [==============================] - 1s 984us/step - loss: 0.1389 - mean_absolute_error: 0.2260 - mean_squared_error: 0.1389\n",
            "Epoch 3/15\n",
            "1070/1070 [==============================] - 1s 986us/step - loss: 0.1672 - mean_absolute_error: 0.2497 - mean_squared_error: 0.1672\n",
            "Epoch 4/15\n",
            "1070/1070 [==============================] - 1s 1ms/step - loss: 0.1534 - mean_absolute_error: 0.2360 - mean_squared_error: 0.1534\n",
            "Epoch 5/15\n",
            "1070/1070 [==============================] - 1s 986us/step - loss: 0.1578 - mean_absolute_error: 0.2528 - mean_squared_error: 0.1578\n",
            "Epoch 6/15\n",
            "1070/1070 [==============================] - 1s 981us/step - loss: 0.1227 - mean_absolute_error: 0.2072 - mean_squared_error: 0.1227\n",
            "Epoch 7/15\n",
            "1070/1070 [==============================] - 1s 1ms/step - loss: 0.1567 - mean_absolute_error: 0.2459 - mean_squared_error: 0.1567\n",
            "Epoch 8/15\n",
            "1070/1070 [==============================] - 1s 996us/step - loss: 0.1622 - mean_absolute_error: 0.2504 - mean_squared_error: 0.1622\n",
            "Epoch 9/15\n",
            "1070/1070 [==============================] - 1s 1ms/step - loss: 0.1394 - mean_absolute_error: 0.2280 - mean_squared_error: 0.1394\n",
            "Epoch 10/15\n",
            "1070/1070 [==============================] - 1s 996us/step - loss: 0.1192 - mean_absolute_error: 0.2028 - mean_squared_error: 0.1192\n",
            "Epoch 11/15\n",
            "1070/1070 [==============================] - 1s 990us/step - loss: 0.1354 - mean_absolute_error: 0.2101 - mean_squared_error: 0.1354\n",
            "Epoch 12/15\n",
            "1070/1070 [==============================] - 1s 1ms/step - loss: 0.1397 - mean_absolute_error: 0.2274 - mean_squared_error: 0.1397\n",
            "Epoch 13/15\n",
            "1070/1070 [==============================] - 1s 1ms/step - loss: 0.1562 - mean_absolute_error: 0.2413 - mean_squared_error: 0.1562\n",
            "Epoch 14/15\n",
            "1070/1070 [==============================] - 1s 983us/step - loss: 0.1577 - mean_absolute_error: 0.2438 - mean_squared_error: 0.1577\n",
            "Epoch 15/15\n",
            "1070/1070 [==============================] - 1s 1ms/step - loss: 0.1431 - mean_absolute_error: 0.2250 - mean_squared_error: 0.1431\n"
          ],
          "name": "stdout"
        }
      ]
    },
    {
      "cell_type": "code",
      "metadata": {
        "colab": {
          "base_uri": "https://localhost:8080/",
          "height": 334
        },
        "id": "7Za_5FCLEHFZ",
        "outputId": "def3cb05-ee20-49b8-d243-214e38b4d8e1"
      },
      "source": [
        "test_model(model, dfeval, y_eval)"
      ],
      "execution_count": null,
      "outputs": [
        {
          "output_type": "stream",
          "text": [
            "9/9 - 0s - loss: 0.1686 - mean_absolute_error: 0.2409 - mean_squared_error: 0.1686\n",
            "Testing set Mean Abs Error:  0.24 expenses\n",
            "You passed the challenge. Great job!\n"
          ],
          "name": "stdout"
        },
        {
          "output_type": "display_data",
          "data": {
            "image/png": "[encoded data removed]",
            "text/plain": [
              "<Figure size 432x288 with 1 Axes>"
            ]
          },
          "metadata": {
            "tags": [],
            "needs_background": "light"
          }
        }
      ]
    }
  ]
}